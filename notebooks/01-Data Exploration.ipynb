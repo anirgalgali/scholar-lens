{
 "cells": [
  {
   "cell_type": "code",
   "execution_count": 23,
   "id": "567f095c",
   "metadata": {},
   "outputs": [],
   "source": [
    "from datasets import load_dataset\n",
    "import re\n",
    "import pprint"
   ]
  },
  {
   "cell_type": "code",
   "execution_count": null,
   "id": "b553cc62",
   "metadata": {},
   "outputs": [],
   "source": [
    "ds_raw_train = load_dataset(\"TimSchopf/arxiv_categories\", \"default\", split=\"train\")\n",
    "ds_cats = load_dataset(\"TimSchopf/arxiv_categories\",  \"arxiv_category_descriptions\",\n",
    "                       split=\"arxiv_category_descriptions\")"
   ]
  },
  {
   "cell_type": "code",
   "execution_count": 26,
   "id": "5f6ee1dc",
   "metadata": {},
   "outputs": [
    {
     "name": "stdout",
     "output_type": "stream",
     "text": [
      "{'abstract': ['In order to read meter values from a camera on an autonomous '\n",
      "              'inspection robot with positional errors, it is necessary to '\n",
      "              'detect meter regions from the image. In this study, we '\n",
      "              'developed shape-based, texture-based, and background '\n",
      "              'information-based methods as meter area detection techniques '\n",
      "              'and compared their effectiveness for meters of different shapes '\n",
      "              'and sizes. As a result, we confirmed that the background '\n",
      "              'information-based method can detect the farthest meters '\n",
      "              'regardless of the shape and number of meters, and can stably '\n",
      "              'detect meters with a diameter of 40px.',\n",
      "              'We consider the problem of finding the transition rates of a '\n",
      "              'continuous-time homogeneous Markov chain under the empirical '\n",
      "              'condition that the state changes at most once during a time '\n",
      "              'interval of unit length. It is proven that this conditional '\n",
      "              'embedding approach results in a unique intensity matrix for a '\n",
      "              'transition matrix with non-zero diagonal entries. Hence, the '\n",
      "              'presented conditional embedding approach has the merit to avoid '\n",
      "              'the identification phase as well as regularization for the '\n",
      "              'embedding problem. The resulting intensity matrix is compared '\n",
      "              'to the approximation for the Markov generator found by Jarrow.'],\n",
      " 'categories': [['Computer Science Archive->cs.CV'],\n",
      "                ['Mathematics Archive->math.PR']],\n",
      " 'creation_date': [Timestamp('2022-04-24 13:59:57+0000', tz='UTC'),\n",
      "                   Timestamp('2023-05-31 14:24:25+0000', tz='UTC')],\n",
      " 'id': ['2204.14117', '2305.19887'],\n",
      " 'title': ['A Comparative Study of Meter Detection Methods for Automated '\n",
      "           'Infrastructure Inspection',\n",
      "           'The Markov chain embedding problem in a low jump frequency '\n",
      "           'context']}\n",
      "{'description': ['Artificial Intelligence (AI) refers to the development of '\n",
      "                 'computer systems that can perform tasks that typically '\n",
      "                 'require human intelligence. In particular, this includes '\n",
      "                 'Expert Systems, Theorem Proving, Knowledge Representation, '\n",
      "                 'Planning, and Uncertainty in AI.',\n",
      "                 'Hardware architecture in computer science refers to the '\n",
      "                 \"design and organization of a computer system's physical \"\n",
      "                 'components and their interconnections. In particular, this '\n",
      "                 'includes systems organization and hardware architecture.'],\n",
      " 'name': ['Artificial Intelligence', 'Hardware Architecture'],\n",
      " 'tag': ['cs.AI', 'cs.AR']}\n"
     ]
    }
   ],
   "source": [
    "pprint.pprint(ds_raw_train[0:2])\n",
    "pprint.pprint(ds_cats[0:2])"
   ]
  },
  {
   "cell_type": "markdown",
   "id": "4bbd2e22",
   "metadata": {},
   "source": [
    "## Structure of data\n",
    "Two different Dataset objects \n",
    "1. \"default\" which contains the follwoign relevant features for our problem:\n",
    "    - title,abstract, categories\n",
    "   \n",
    "2. \"arxiv_category_description\" which contains features that only describe each category\n",
    "    - tag, name\n",
    "\n",
    "Therefore, We will need the 'tag' feature of the second dataset to identify all the categories\n",
    "available in this dataset and then map that to information in the 'categories' feature of\n",
    "the identify the category specific to that datapoint\n",
    "\n",
    "**NOTE** - there maybe multiple \"tags\" within the \"categories\" field for a given paper, \n",
    "since a paper coudl actually belong to multiple category. But perhaps, its best to label\n",
    "each paper based on the first \"tag\" encountered in \"categories\"."
   ]
  },
  {
   "cell_type": "code",
   "execution_count": null,
   "id": "1bfafd79",
   "metadata": {},
   "outputs": [
    {
     "name": "stdout",
     "output_type": "stream",
     "text": [
      "['cs.AI',\n",
      " 'cs.AR',\n",
      " 'cs.CC',\n",
      " 'cs.CE',\n",
      " 'cs.CG',\n",
      " 'cs.CL',\n",
      " 'cs.CR',\n",
      " 'cs.CV',\n",
      " 'cs.CY',\n",
      " 'cs.DB',\n",
      " 'cs.DC',\n",
      " 'cs.DL',\n",
      " 'cs.DM',\n",
      " 'cs.DS',\n",
      " 'cs.ET',\n",
      " 'cs.FL',\n",
      " 'cs.GL',\n",
      " 'cs.GR',\n",
      " 'cs.GT',\n",
      " 'cs.HC',\n",
      " 'cs.IR',\n",
      " 'cs.IT',\n",
      " 'cs.LG',\n",
      " 'cs.LO',\n",
      " 'cs.MA',\n",
      " 'cs.MM',\n",
      " 'cs.MS',\n",
      " 'cs.NA',\n",
      " 'cs.NE',\n",
      " 'cs.NI',\n",
      " 'cs.OH',\n",
      " 'cs.OS',\n",
      " 'cs.PF',\n",
      " 'cs.PL',\n",
      " 'cs.RO',\n",
      " 'cs.SC',\n",
      " 'cs.SD',\n",
      " 'cs.SE',\n",
      " 'cs.SI',\n",
      " 'cs.SY',\n",
      " 'econ.EM',\n",
      " 'econ.GN',\n",
      " 'econ.TH',\n",
      " 'eess.AS',\n",
      " 'eess.IV',\n",
      " 'eess.SP',\n",
      " 'eess.SY',\n",
      " 'math.AC',\n",
      " 'math.AG',\n",
      " 'math.AP',\n",
      " 'math.AT',\n",
      " 'math.CA',\n",
      " 'math.CO',\n",
      " 'math.CT',\n",
      " 'math.CV',\n",
      " 'math.DG',\n",
      " 'math.DS',\n",
      " 'math.FA',\n",
      " 'math.GM',\n",
      " 'math.GN',\n",
      " 'math.GR',\n",
      " 'math.GT',\n",
      " 'math.HO',\n",
      " 'math.IT',\n",
      " 'math.KT',\n",
      " 'math.LO',\n",
      " 'math.MG',\n",
      " 'math.MP',\n",
      " 'math.NA',\n",
      " 'math.NT',\n",
      " 'math.OA',\n",
      " 'math.OC',\n",
      " 'math.PR',\n",
      " 'math.QA',\n",
      " 'math.RA',\n",
      " 'math.RT',\n",
      " 'math.SG',\n",
      " 'math.SP',\n",
      " 'math.ST',\n",
      " 'astro-ph',\n",
      " 'astro-ph.CO',\n",
      " 'astro-ph.EP',\n",
      " 'astro-ph.GA',\n",
      " 'astro-ph.HE',\n",
      " 'astro-ph.IM',\n",
      " 'astro-ph.SR',\n",
      " 'cond-mat',\n",
      " 'cond-mat.dis-nn',\n",
      " 'cond-mat.mes-hall',\n",
      " 'cond-mat.mtrl-sci',\n",
      " 'cond-mat.other',\n",
      " 'cond-mat.quant-gas',\n",
      " 'cond-mat.soft',\n",
      " 'cond-mat.stat-mech',\n",
      " 'cond-mat.str-el',\n",
      " 'cond-mat.supr-con',\n",
      " 'gr-qc',\n",
      " 'hep-ex',\n",
      " 'hep-lat',\n",
      " 'hep-ph',\n",
      " 'hep-th',\n",
      " 'math-ph',\n",
      " 'nlin.AO',\n",
      " 'nlin.CD',\n",
      " 'nlin.CG',\n",
      " 'nlin.PS',\n",
      " 'nlin.SI',\n",
      " 'nucl-ex',\n",
      " 'nucl-th',\n",
      " 'physics.acc-ph',\n",
      " 'physics.ao-ph',\n",
      " 'physics.app-ph',\n",
      " 'physics.atm-clus',\n",
      " 'physics.atom-ph',\n",
      " 'physics.bio-ph',\n",
      " 'physics.chem-ph',\n",
      " 'physics.class-ph',\n",
      " 'physics.comp-ph',\n",
      " 'physics.data-an',\n",
      " 'physics.ed-ph',\n",
      " 'physics.flu-dyn',\n",
      " 'physics.gen-ph',\n",
      " 'physics.geo-ph',\n",
      " 'physics.hist-ph',\n",
      " 'physics.ins-det',\n",
      " 'physics.med-ph',\n",
      " 'physics.optics',\n",
      " 'physics.plasm-ph',\n",
      " 'physics.pop-ph',\n",
      " 'physics.soc-ph',\n",
      " 'physics.space-ph',\n",
      " 'quant-ph',\n",
      " 'q-bio.BM',\n",
      " 'q-bio.CB',\n",
      " 'q-bio.GN',\n",
      " 'q-bio.MN',\n",
      " 'q-bio.NC',\n",
      " 'q-bio.OT',\n",
      " 'q-bio.PE',\n",
      " 'q-bio.QM',\n",
      " 'q-bio.SC',\n",
      " 'q-bio.TO',\n",
      " 'q-fin.CP',\n",
      " 'q-fin.EC',\n",
      " 'q-fin.GN',\n",
      " 'q-fin.MF',\n",
      " 'q-fin.PM',\n",
      " 'q-fin.PR',\n",
      " 'q-fin.RM',\n",
      " 'q-fin.ST',\n",
      " 'q-fin.TR',\n",
      " 'stat.AP',\n",
      " 'stat.CO',\n",
      " 'stat.ME',\n",
      " 'stat.ML',\n",
      " 'stat.OT',\n",
      " 'stat.TH']\n"
     ]
    }
   ],
   "source": [
    "def get_all_categories(category_ds):\n",
    "    all_categories = []\n",
    "    for c in category_ds['tag']:\n",
    "        all_categories.append(c)\n",
    "    return all_categories\n",
    "\n",
    "all_categories = get_all_categories(ds_cats)\n",
    "pprint.pprint(all_categories) # Let's take a look at all the category tags"
   ]
  },
  {
   "cell_type": "code",
   "execution_count": 63,
   "id": "d05bc700",
   "metadata": {},
   "outputs": [
    {
     "data": {
      "text/plain": [
       "[['Computer Science Archive->cs.CV'],\n",
       " ['Mathematics Archive->math.PR'],\n",
       " ['Physics Archive->astro-ph->astro-ph.EP'],\n",
       " ['Computer Science Archive->cs.DB'],\n",
       " ['Physics Archive->nlin->nlin.CD'],\n",
       " ['Physics Archive->astro-ph->astro-ph.SR'],\n",
       " ['Physics Archive->physics->physics.atom-ph'],\n",
       " ['Computer Science Archive->cs.CV', 'Computer Science Archive->cs.LG'],\n",
       " ['Physics Archive->astro-ph->astro-ph.GA',\n",
       "  'Physics Archive->astro-ph->astro-ph.SR'],\n",
       " ['Mathematics Archive->math.OC'],\n",
       " ['Physics Archive->astro-ph->astro-ph.GA',\n",
       "  'Physics Archive->astro-ph->astro-ph.SR'],\n",
       " ['Mathematics Archive->math.PR'],\n",
       " ['Physics Archive->cond-mat->cond-mat.mtrl-sci'],\n",
       " ['Mathematics Archive->math.AP'],\n",
       " ['Physics Archive->gr-qc',\n",
       "  'Physics Archive->hep->hep-th',\n",
       "  'Physics Archive->quant-ph'],\n",
       " ['Physics Archive->gr-qc', 'Physics Archive->hep->hep-th'],\n",
       " ['Computer Science Archive->cs.CC'],\n",
       " ['Physics Archive->gr-qc'],\n",
       " ['Mathematics Archive->math.AT'],\n",
       " ['Physics Archive->astro-ph->astro-ph.GA',\n",
       "  'Physics Archive->astro-ph->astro-ph.HE'],\n",
       " ['Mathematics Archive->math.PR'],\n",
       " ['Computer Science Archive->cs.LG'],\n",
       " ['Physics Archive->cond-mat->cond-mat.str-el',\n",
       "  'Physics Archive->hep->hep-th'],\n",
       " ['Physics Archive->cond-mat->cond-mat.soft'],\n",
       " ['Physics Archive->physics->physics.plasm-ph'],\n",
       " ['Mathematics Archive->math.AP', 'Mathematics Archive->math.CA'],\n",
       " ['Physics Archive->quant-ph'],\n",
       " ['Computer Science Archive->cs.NE'],\n",
       " ['Mathematics Archive->math.OC'],\n",
       " ['Physics Archive->hep->hep-ph', 'Physics Archive->nucl->nucl-th']]"
      ]
     },
     "execution_count": 63,
     "metadata": {},
     "output_type": "execute_result"
    }
   ],
   "source": [
    "ds_raw_train[:30]['categories']"
   ]
  },
  {
   "cell_type": "code",
   "execution_count": 67,
   "id": "ab7e541d",
   "metadata": {},
   "outputs": [
    {
     "data": {
      "text/plain": [
       "['Computer Science Archive->cs.CV', 'Computer Science Archive->cs.LG']"
      ]
     },
     "execution_count": 67,
     "metadata": {},
     "output_type": "execute_result"
    }
   ],
   "source": [
    "ds_raw_train[7]['categories']"
   ]
  },
  {
   "cell_type": "markdown",
   "id": "17e76a98",
   "metadata": {},
   "source": [
    "## Pattern matching strategy\n",
    "\n",
    "1. The category field in the datast may contain 1 or more categories. Therefore, we need\n",
    "   to process each of these\n",
    "\n",
    "2. The pattern to match i.e the thing that appears in the tags alwats appears after a -> \n",
    "   ,and is either flanked by another -> or a white space?\n",
    "\n",
    "3. Therefore, we will need a function that extracts the parts of the 'categories' string \n",
    "   that has the following pattern : ->x-> or ->x. This function will need to be applied\n",
    "   to each category for a specific datapoint.  \n",
    "\n",
    "4. **Always** the first -> appears after the word Archive"
   ]
  },
  {
   "cell_type": "code",
   "execution_count": null,
   "id": "595e6c31",
   "metadata": {},
   "outputs": [],
   "source": [
    "def get_category_strings(example):\n",
    "    \n",
    "    test_strings = example['categories']\n",
    "    # This regex seems to work for most examples. Will require further testing\n",
    "    pattern = re.compile(r'[\\w\\s]*Archive(->)([A-Za-z.-]+)(>|\\w*)?([A-Za-z.-]*)')\n",
    "    categories = []\n",
    "    for string in test_strings:\n",
    "        matched_pattern = pattern.sub(r'\\2\\3\\4',string)\n",
    "        categories.append(matched_pattern)\n",
    "\n",
    "    return categories\n"
   ]
  },
  {
   "cell_type": "code",
   "execution_count": 272,
   "id": "532572d1",
   "metadata": {},
   "outputs": [
    {
     "name": "stdout",
     "output_type": "stream",
     "text": [
      "['quant-ph']\n",
      "['Physics Archive->quant-ph']\n"
     ]
    }
   ],
   "source": [
    "extracted_categories = get_category_strings(ds_raw_train[54])\n",
    "print(extracted_categories)\n",
    "print(ds_raw_train[54]['categories'])"
   ]
  },
  {
   "cell_type": "code",
   "execution_count": 252,
   "id": "36855a3e",
   "metadata": {},
   "outputs": [
    {
     "name": "stdout",
     "output_type": "stream",
     "text": [
      "<re.Match object; span=(0, 22), match='Physics Archive->gr-qc'>\n",
      "gr-qc\n"
     ]
    },
    {
     "data": {
      "text/plain": [
       "'Physics Archive->gr-qc'"
      ]
     },
     "execution_count": 252,
     "metadata": {},
     "output_type": "execute_result"
    }
   ],
   "source": [
    "pattern = re.compile(r'[\\w\\s]*Archive(->)([A-Za-z.-]+)(>|\\w*)?([A-Za-z.-]*)')\n",
    "idx = 17\n",
    "matches = re.finditer(pattern, ds_raw_train[idx]['categories'][0])\n",
    "sub_matches = pattern.sub(r'\\2\\3\\4',ds_raw_train[idx]['categories'][0])\n",
    "for match in matches:\n",
    "    print(match)\n",
    "    print(sub_matches)\n",
    "    # print(match.group(1))\n",
    "    # print(match.group(2))\n",
    "    # print(match.group(3))\n",
    "\n",
    "\n",
    "ds_raw_train[idx]['categories'][0]\n"
   ]
  },
  {
   "cell_type": "code",
   "execution_count": null,
   "id": "fa563069",
   "metadata": {},
   "outputs": [],
   "source": []
  },
  {
   "cell_type": "code",
   "execution_count": null,
   "id": "e413d98b",
   "metadata": {},
   "outputs": [],
   "source": []
  }
 ],
 "metadata": {
  "kernelspec": {
   "display_name": "fast-torch",
   "language": "python",
   "name": "python3"
  },
  "language_info": {
   "codemirror_mode": {
    "name": "ipython",
    "version": 3
   },
   "file_extension": ".py",
   "mimetype": "text/x-python",
   "name": "python",
   "nbconvert_exporter": "python",
   "pygments_lexer": "ipython3",
   "version": "3.11.13"
  }
 },
 "nbformat": 4,
 "nbformat_minor": 5
}
