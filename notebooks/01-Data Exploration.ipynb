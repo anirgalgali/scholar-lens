{
 "cells": [
  {
   "cell_type": "code",
   "execution_count": 1,
   "id": "40311091",
   "metadata": {},
   "outputs": [],
   "source": [
    "%load_ext autoreload\n",
    "%autoreload 2\n",
    "import os\n",
    "from pathlib import Path"
   ]
  },
  {
   "cell_type": "code",
   "execution_count": 2,
   "id": "feec5c08",
   "metadata": {},
   "outputs": [],
   "source": [
    "original_dir = os.getcwd()\n",
    "project_root = Path.cwd().parent\n",
    "os.chdir(project_root)"
   ]
  },
  {
   "cell_type": "code",
   "execution_count": 3,
   "id": "567f095c",
   "metadata": {},
   "outputs": [],
   "source": [
    "from datasets import load_dataset\n",
    "import pprint\n",
    "from collections import Counter\n",
    "import matplotlib.pyplot as plt\n",
    "import numpy as np\n",
    "from transformers import AutoTokenizer\n",
    "import matplotlib.pyplot as plt\n",
    "from src.data_processing import get_tag_dict, get_category_tags, get_topk_categories_by_subject,get_processed_dataset,_process_dataset\n",
    "from src.config import DataConfig"
   ]
  },
  {
   "cell_type": "code",
   "execution_count": null,
   "id": "7080cb08",
   "metadata": {},
   "outputs": [],
   "source": [
    "tokenizer = AutoTokenizer.from_pretrained(\"distilbert/distilbert-base-uncased\")"
   ]
  },
  {
   "cell_type": "code",
   "execution_count": 4,
   "id": "b553cc62",
   "metadata": {},
   "outputs": [],
   "source": [
    "ds_raw = load_dataset(\"TimSchopf/arxiv_categories\", \"default\")\n",
    "ds_cats = load_dataset(\"TimSchopf/arxiv_categories\",  \"arxiv_category_descriptions\",\n",
    "                       split=\"arxiv_category_descriptions\")"
   ]
  },
  {
   "cell_type": "markdown",
   "id": "4bbd2e22",
   "metadata": {},
   "source": [
    "## Structure of data\n",
    "Two different Dataset objects \n",
    "1. \"default\" which contains the follwoing relevant features for our problem:\n",
    "    - title, abstract, categories\n",
    "   \n",
    "2. \"arxiv_category_description\" which contains features that describe each category in the dataset\n",
    "    - tag, name\n",
    "\n",
    "Therefore, We will need the 'tag' feature of the second dataset to identify all the categories\n",
    "available in this dataset and then map that to information in the 'categories' feature of\n",
    "the identify the category specific to that datapoint\n",
    "\n",
    "**NOTE** - there maybe multiple \"tags\" within the \"categories\" field for a given paper, \n",
    "since a paper coudl actually belong to multiple category. But perhaps, its best to label\n",
    "each paper based on the first \"tag\" encountered in \"categories\"."
   ]
  },
  {
   "cell_type": "code",
   "execution_count": 5,
   "id": "1bfafd79",
   "metadata": {},
   "outputs": [
    {
     "name": "stdout",
     "output_type": "stream",
     "text": [
      "['cs.AI',\n",
      " 'cs.AR',\n",
      " 'cs.CC',\n",
      " 'cs.CE',\n",
      " 'cs.CG',\n",
      " 'cs.CL',\n",
      " 'cs.CR',\n",
      " 'cs.CV',\n",
      " 'cs.CY',\n",
      " 'cs.DB',\n",
      " 'cs.DC',\n",
      " 'cs.DL',\n",
      " 'cs.DM',\n",
      " 'cs.DS',\n",
      " 'cs.ET',\n",
      " 'cs.FL',\n",
      " 'cs.GL',\n",
      " 'cs.GR',\n",
      " 'cs.GT',\n",
      " 'cs.HC',\n",
      " 'cs.IR',\n",
      " 'cs.IT',\n",
      " 'cs.LG',\n",
      " 'cs.LO',\n",
      " 'cs.MA',\n",
      " 'cs.MM',\n",
      " 'cs.MS',\n",
      " 'cs.NA',\n",
      " 'cs.NE',\n",
      " 'cs.NI',\n",
      " 'cs.OH',\n",
      " 'cs.OS',\n",
      " 'cs.PF',\n",
      " 'cs.PL',\n",
      " 'cs.RO',\n",
      " 'cs.SC',\n",
      " 'cs.SD',\n",
      " 'cs.SE',\n",
      " 'cs.SI',\n",
      " 'cs.SY',\n",
      " 'econ.EM',\n",
      " 'econ.GN',\n",
      " 'econ.TH',\n",
      " 'eess.AS',\n",
      " 'eess.IV',\n",
      " 'eess.SP',\n",
      " 'eess.SY',\n",
      " 'math.AC',\n",
      " 'math.AG',\n",
      " 'math.AP',\n",
      " 'math.AT',\n",
      " 'math.CA',\n",
      " 'math.CO',\n",
      " 'math.CT',\n",
      " 'math.CV',\n",
      " 'math.DG',\n",
      " 'math.DS',\n",
      " 'math.FA',\n",
      " 'math.GM',\n",
      " 'math.GN',\n",
      " 'math.GR',\n",
      " 'math.GT',\n",
      " 'math.HO',\n",
      " 'math.IT',\n",
      " 'math.KT',\n",
      " 'math.LO',\n",
      " 'math.MG',\n",
      " 'math.MP',\n",
      " 'math.NA',\n",
      " 'math.NT',\n",
      " 'math.OA',\n",
      " 'math.OC',\n",
      " 'math.PR',\n",
      " 'math.QA',\n",
      " 'math.RA',\n",
      " 'math.RT',\n",
      " 'math.SG',\n",
      " 'math.SP',\n",
      " 'math.ST',\n",
      " 'astro-ph',\n",
      " 'astro-ph.CO',\n",
      " 'astro-ph.EP',\n",
      " 'astro-ph.GA',\n",
      " 'astro-ph.HE',\n",
      " 'astro-ph.IM',\n",
      " 'astro-ph.SR',\n",
      " 'cond-mat',\n",
      " 'cond-mat.dis-nn',\n",
      " 'cond-mat.mes-hall',\n",
      " 'cond-mat.mtrl-sci',\n",
      " 'cond-mat.other',\n",
      " 'cond-mat.quant-gas',\n",
      " 'cond-mat.soft',\n",
      " 'cond-mat.stat-mech',\n",
      " 'cond-mat.str-el',\n",
      " 'cond-mat.supr-con',\n",
      " 'gr-qc',\n",
      " 'hep-ex',\n",
      " 'hep-lat',\n",
      " 'hep-ph',\n",
      " 'hep-th',\n",
      " 'math-ph',\n",
      " 'nlin.AO',\n",
      " 'nlin.CD',\n",
      " 'nlin.CG',\n",
      " 'nlin.PS',\n",
      " 'nlin.SI',\n",
      " 'nucl-ex',\n",
      " 'nucl-th',\n",
      " 'physics.acc-ph',\n",
      " 'physics.ao-ph',\n",
      " 'physics.app-ph',\n",
      " 'physics.atm-clus',\n",
      " 'physics.atom-ph',\n",
      " 'physics.bio-ph',\n",
      " 'physics.chem-ph',\n",
      " 'physics.class-ph',\n",
      " 'physics.comp-ph',\n",
      " 'physics.data-an',\n",
      " 'physics.ed-ph',\n",
      " 'physics.flu-dyn',\n",
      " 'physics.gen-ph',\n",
      " 'physics.geo-ph',\n",
      " 'physics.hist-ph',\n",
      " 'physics.ins-det',\n",
      " 'physics.med-ph',\n",
      " 'physics.optics',\n",
      " 'physics.plasm-ph',\n",
      " 'physics.pop-ph',\n",
      " 'physics.soc-ph',\n",
      " 'physics.space-ph',\n",
      " 'quant-ph',\n",
      " 'q-bio.BM',\n",
      " 'q-bio.CB',\n",
      " 'q-bio.GN',\n",
      " 'q-bio.MN',\n",
      " 'q-bio.NC',\n",
      " 'q-bio.OT',\n",
      " 'q-bio.PE',\n",
      " 'q-bio.QM',\n",
      " 'q-bio.SC',\n",
      " 'q-bio.TO',\n",
      " 'q-fin.CP',\n",
      " 'q-fin.EC',\n",
      " 'q-fin.GN',\n",
      " 'q-fin.MF',\n",
      " 'q-fin.PM',\n",
      " 'q-fin.PR',\n",
      " 'q-fin.RM',\n",
      " 'q-fin.ST',\n",
      " 'q-fin.TR',\n",
      " 'stat.AP',\n",
      " 'stat.CO',\n",
      " 'stat.ME',\n",
      " 'stat.ML',\n",
      " 'stat.OT',\n",
      " 'stat.TH']\n"
     ]
    }
   ],
   "source": [
    "all_tags = get_tag_dict(ds_cats)\n",
    "pprint.pprint([v for (k, v) in all_tags.items()]) # Let's take a look at all the tags"
   ]
  },
  {
   "cell_type": "code",
   "execution_count": null,
   "id": "d05bc700",
   "metadata": {},
   "outputs": [],
   "source": [
    "ds_raw['train'][:20]['categories'] # Take a look at the categories field in the raw training set"
   ]
  },
  {
   "cell_type": "markdown",
   "id": "17e76a98",
   "metadata": {},
   "source": [
    "## Pattern matching strategy\n",
    "\n",
    "1. The category field in the datast may contain 1 or more categories. Therefore, we need\n",
    "   to process each of these\n",
    "\n",
    "2. The pattern to match i.e the thing that appears in the tags always appears after a -> \n",
    "   , and is either flanked by another -> or a white space?\n",
    "\n",
    "3. Therefore, we will need a function that extracts the parts of the 'categories' string \n",
    "   that has the following pattern : ->x-> or ->x. This function will need to be applied\n",
    "   to each category for a specific datapoint.  \n",
    "\n",
    "4. **Always** the first -> appears after the word 'Archive'"
   ]
  },
  {
   "cell_type": "code",
   "execution_count": null,
   "id": "a50a152a",
   "metadata": {},
   "outputs": [],
   "source": [
    "ds_raw = ds_raw.map(lambda x: get_category_tags(x, all_tags), load_from_cache_file=False)"
   ]
  },
  {
   "cell_type": "code",
   "execution_count": null,
   "id": "e74f79cd",
   "metadata": {},
   "outputs": [],
   "source": [
    "def get_sorted_counts(d: list[str]):\n",
    "\n",
    "    count_dict = dict(Counter(d))\n",
    "    count_dict = dict(sorted(count_dict.items(), key=lambda item: item[1], reverse=True))\n",
    "    return count_dict\n",
    "\n",
    "\n",
    "subject_counts = get_sorted_counts(ds_raw[\"train\"]['subject'])\n"
   ]
  },
  {
   "cell_type": "code",
   "execution_count": null,
   "id": "7e8ce714",
   "metadata": {},
   "outputs": [],
   "source": [
    "subject_names_short = list(map(lambda x: x[:3].upper(),list(subject_counts.keys())))\n",
    "plt.bar(list(subject_names_short),subject_counts.values())\n",
    "plt.title('Number of papers by subject (training split only)')\n",
    "plt.xlabel('subjects')\n",
    "plt.ylabel('paper counts')"
   ]
  },
  {
   "cell_type": "markdown",
   "id": "832b5df5",
   "metadata": {},
   "source": [
    "### STRATEGY FOR FILTERING DATA \n",
    "The above distribution seems to suggest that \n",
    "1. The 3 'subjects' with the most papers in this dataset are - Physiccs (PHY), Mathematics (MAT)  and Computer Science (COM).\n",
    "\n",
    "2. The remaining subjects have very few datapoints in comparison, so for convenience we will just\n",
    "remove those other subjects\n",
    "\n",
    "3. PHYsics still have thrice the number of papers in MATh or COMputer Science. So we will need to\n",
    "take into consideration data-class imbalance\n",
    "\n",
    "Now within each of these top-level subjects, let's look at the distribution of individual categories.\n",
    "For starters let's looks at the top-10 categories within each subject"
   ]
  },
  {
   "cell_type": "code",
   "execution_count": null,
   "id": "a5a38de7",
   "metadata": {},
   "outputs": [],
   "source": [
    "num_categories_per_subject = 8\n",
    "topk_category_counts_by_subject = get_topk_categories_by_subject(ds_raw[\"train\"][\"category\"], ds_raw[\"train\"][\"subject\"], k = num_categories_per_subject)"
   ]
  },
  {
   "cell_type": "code",
   "execution_count": null,
   "id": "f97dae2e",
   "metadata": {},
   "outputs": [],
   "source": [
    "subjects_to_retain = [\"Physics\", \"Mathematics\", \"Computer Science\"]\n",
    "x = np.arange(len(subjects_to_retain))  # the label locations\n",
    "width = 0.05  # the width of the bars\n",
    "\n",
    "fig, ax = plt.subplots(layout='constrained',figsize = (12,12))\n",
    "for i, subj in enumerate(subjects_to_retain):\n",
    "    multiplier = 0\n",
    "    total_subj_count = 0\n",
    "    for tag, counts in topk_category_counts_by_subject[subj].items():\n",
    "        offset = width * multiplier\n",
    "        rects = ax.bar(i + offset, counts, width, label=tag)\n",
    "        ax.bar_label(rects, padding=5)\n",
    "        multiplier += 1\n",
    "        total_subj_count += counts\n",
    "\n",
    "    print(f\"total papers in {subj} retained via top-8: {total_subj_count}\")\n",
    "# Add some text for labels, title and custom x-axis tick labels, etc.\n",
    "ax.set_ylabel('Paper counts')\n",
    "ax.set_xlabel('Top-level subjects')\n",
    "ax.set_title(f'Tag distribution by subject (training only) - Top {num_categories_per_subject} categories')\n",
    "ax.set_xticks(x + width, subjects_to_retain)\n",
    "ax.legend(loc='upper right', ncols=3)\n",
    "\n",
    "\n",
    "plt.show()"
   ]
  },
  {
   "cell_type": "markdown",
   "id": "4d2e5006",
   "metadata": {},
   "source": [
    "A critical thing to notice in the above plot is that the second most frequent category in Physics is \"astro-ph\", \n",
    "which is clearly missing further information which subcategory of astrophysics these papers belong to. For example, \n",
    "the last cateogry within physics is astro-ph.CO which indicates that these papers belogn to the \"cosmology\" \n",
    "specialization. Therefore, we needsome way of recategorizing the papers that have this incomplete label information \n",
    "into specific categories. Some approaches to consider are - \n",
    "\n",
    "1. Merge astro-ph into the speccialized sub-category that occurs the most (for e.g astro-ph gets merged into astro-ph.CO)\n",
    "2. Randomly assign astro-ph papers to specialized sub-categories within astro-physics, either with a uniform distribution\n",
    "or in proportion to occurences of each sub-category.\n",
    "\n",
    "I am inclined to believe strategy #2 is better"
   ]
  },
  {
   "cell_type": "code",
   "execution_count": null,
   "id": "7aee7705",
   "metadata": {},
   "outputs": [],
   "source": [
    "data_config = DataConfig(num_categories_per_subject=8)\n",
    "ds_processed = get_processed_dataset(data_config)"
   ]
  },
  {
   "cell_type": "code",
   "execution_count": null,
   "id": "20ef219b",
   "metadata": {},
   "outputs": [],
   "source": [
    "def analyze_sequence_lengths(dataset, tokenizer):\n",
    "    \n",
    "    lengths = []\n",
    "    for example in dataset['train']:\n",
    "        tokens = tokenizer(example['input'], truncation=False)['input_ids']\n",
    "        lengths.append(len(tokens))\n",
    "    \n",
    "    lengths = np.array(lengths)\n",
    "    \n",
    "    print(f\"Mean length: {lengths.mean():.1f}\")\n",
    "    print(f\"Median length: {np.median(lengths):.1f}\")\n",
    "    print(f\"90th percentile: {np.percentile(lengths, 90):.1f}\")\n",
    "    print(f\"95th percentile: {np.percentile(lengths, 95):.1f}\")\n",
    "    print(f\"99th percentile: {np.percentile(lengths, 99):.1f}\")\n",
    "    print(f\"Max length: {lengths.max()}\")\n",
    "    \n",
    "    return lengths"
   ]
  },
  {
   "cell_type": "code",
   "execution_count": null,
   "id": "82e30ef1",
   "metadata": {},
   "outputs": [],
   "source": [
    "token_lengths = analyze_sequence_lengths(ds_processed, tokenizer)"
   ]
  },
  {
   "cell_type": "code",
   "execution_count": null,
   "id": "7bb6f798",
   "metadata": {},
   "outputs": [],
   "source": [
    "print(tokenizer(ds_processed[\"train\"][0][\"input\"], padding=\"max_length\", truncation=True, max_length=512)['input_ids'])"
   ]
  },
  {
   "cell_type": "code",
   "execution_count": null,
   "id": "fd850ab4",
   "metadata": {},
   "outputs": [],
   "source": [
    "tokenizer.decode(0)"
   ]
  },
  {
   "cell_type": "code",
   "execution_count": 15,
   "id": "809e3a7d",
   "metadata": {},
   "outputs": [
    {
     "name": "stdout",
     "output_type": "stream",
     "text": [
      " Extracting category and subject-level information\n"
     ]
    },
    {
     "name": "stderr",
     "output_type": "stream",
     "text": [
      "Map: 326336 examples [00:22, 7361.82 examples/s]           \n",
      "Map: 40792 examples [00:02, 6959.28 examples/s]          \n",
      "Map: 40794 examples [00:02, 7112.50 examples/s]          \n"
     ]
    },
    {
     "name": "stdout",
     "output_type": "stream",
     "text": [
      "Found parent categories: ['astro-ph', 'cond-mat']\n",
      "Generated Re-labeling Plan: {'astro-ph': {'children': ['astro-ph.CO', 'astro-ph.GA', 'astro-ph.HE', 'astro-ph.SR', 'astro-ph.EP', 'astro-ph.IM'], 'probs': [0.2863582443653618, 0.22502965599051009, 0.18256227758007118, 0.14329774614472124, 0.1136417556346382, 0.04911032028469751]}, 'cond-mat': {'children': ['cond-mat.mes-hall', 'cond-mat.mtrl-sci', 'cond-mat.str-el', 'cond-mat.stat-mech', 'cond-mat.soft', 'cond-mat.supr-con', 'cond-mat.dis-nn', 'cond-mat.quant-gas', 'cond-mat.other'], 'probs': [0.2642530353686433, 0.23812247052613056, 0.15190040471581912, 0.09915537568185817, 0.08657399260953721, 0.06409466830899173, 0.039547774062994895, 0.03651240541967271, 0.019839873306352278]}}\n"
     ]
    },
    {
     "name": "stderr",
     "output_type": "stream",
     "text": [
      "Map: 100%|██████████| 20396/20396 [00:03<00:00, 6640.76 examples/s]\n",
      "Map: 100%|██████████| 20397/20397 [00:00<00:00, 23958.32 examples/s]\n"
     ]
    },
    {
     "name": "stdout",
     "output_type": "stream",
     "text": [
      " Cleaning input text \n"
     ]
    },
    {
     "name": "stderr",
     "output_type": "stream",
     "text": [
      "Map: 326336 examples [00:42, 3837.59 examples/s]           \n",
      "Map: 100%|██████████| 20396/20396 [00:07<00:00, 2589.10 examples/s]\n",
      "Map: 100%|██████████| 20397/20397 [00:08<00:00, 2394.27 examples/s]\n"
     ]
    },
    {
     "name": "stdout",
     "output_type": "stream",
     "text": [
      "Retaining top 15 categories in subjects: Physics, Mathematics, Computer Science...\n"
     ]
    },
    {
     "name": "stderr",
     "output_type": "stream",
     "text": [
      "Filter: 100%|██████████| 163168/163168 [00:16<00:00, 9837.57 examples/s] \n",
      "Filter: 100%|██████████| 20396/20396 [00:01<00:00, 18776.87 examples/s]\n",
      "Filter: 100%|██████████| 20397/20397 [00:01<00:00, 15321.62 examples/s]\n"
     ]
    },
    {
     "name": "stdout",
     "output_type": "stream",
     "text": [
      " Categories retained: math.MP, cs.DM, math.DG, math.GT, math.PR, cs.NI, cs.DS, math.FA, math.NT, quant-ph, cs.CV, astro-ph.EP, hep-ex, cond-mat.mtrl-sci, astro-ph.HE, cs.CL, cond-mat.stat-mech, gr-qc, cs.SY, math.CO, astro-ph.CO, math.CA, cond-mat.mes-hall, cs.IT, math.AP, math.CV, cs.LG, cond-mat.soft, cs.LO, hep-th, math.AG, math.ST, hep-ph, astro-ph.GA, cond-mat.str-el, cs.NA, math.DS, math.GR, math.OC, cs.CR, cs.RO, cs.DC, astro-ph.SR, cs.AI, cs.SE\n",
      "Mapping filtered examples to labels\n"
     ]
    },
    {
     "name": "stderr",
     "output_type": "stream",
     "text": [
      "Map: 100%|██████████| 129755/129755 [00:27<00:00, 4696.64 examples/s]\n",
      "Map: 100%|██████████| 16220/16220 [00:02<00:00, 5543.29 examples/s]\n",
      "Map: 100%|██████████| 16217/16217 [00:03<00:00, 5364.47 examples/s]\n"
     ]
    }
   ],
   "source": [
    "data_config = DataConfig()\n",
    "data_config.num_categories_per_subject = 15\n",
    "processed_dataset, id2label = _process_dataset(data_config)"
   ]
  },
  {
   "cell_type": "code",
   "execution_count": 16,
   "id": "160247c1",
   "metadata": {},
   "outputs": [],
   "source": [
    "num_categories_per_subject = 15\n",
    "topk_category_counts_by_subject = get_topk_categories_by_subject(processed_dataset[\"train\"][\"category\"], processed_dataset[\"train\"][\"subject\"], k = num_categories_per_subject)"
   ]
  },
  {
   "cell_type": "code",
   "execution_count": 17,
   "id": "0f6d5dae",
   "metadata": {},
   "outputs": [
    {
     "name": "stdout",
     "output_type": "stream",
     "text": [
      "total papers in Physics retained via top-8: 73450\n",
      "total papers in Mathematics retained via top-8: 27659\n",
      "total papers in Computer Science retained via top-8: 28646\n"
     ]
    },
    {
     "data": {
      "image/png": "[encoded data removed]",
      "text/plain": [
       "<Figure size 1200x1200 with 1 Axes>"
      ]
     },
     "metadata": {},
     "output_type": "display_data"
    }
   ],
   "source": [
    "subjects_to_retain = [\"Physics\", \"Mathematics\", \"Computer Science\"]\n",
    "x = np.arange(len(subjects_to_retain))  # the label locations\n",
    "width = 0.05  # the width of the bars\n",
    "\n",
    "fig, ax = plt.subplots(layout='constrained',figsize = (12,12))\n",
    "for i, subj in enumerate(subjects_to_retain):\n",
    "    multiplier = 0\n",
    "    total_subj_count = 0\n",
    "    for tag, counts in topk_category_counts_by_subject[subj].items():\n",
    "        offset = width * multiplier\n",
    "        rects = ax.bar(i + offset, counts, width, label=tag)\n",
    "        ax.bar_label(rects, padding=5)\n",
    "        multiplier += 1\n",
    "        total_subj_count += counts\n",
    "\n",
    "    print(f\"total papers in {subj} retained via top-8: {total_subj_count}\")\n",
    "# Add some text for labels, title and custom x-axis tick labels, etc.\n",
    "ax.set_ylabel('Paper counts')\n",
    "ax.set_xlabel('Top-level subjects')\n",
    "ax.set_title(f'Tag distribution by subject (training only) - Top {num_categories_per_subject} categories')\n",
    "ax.set_xticks(x + width, subjects_to_retain)\n",
    "ax.legend(loc='upper right', ncols=3)\n",
    "\n",
    "\n",
    "plt.show()"
   ]
  },
  {
   "cell_type": "code",
   "execution_count": 11,
   "id": "0356141e",
   "metadata": {},
   "outputs": [
    {
     "name": "stderr",
     "output_type": "stream",
     "text": [
      "Filter: 100%|██████████| 94544/94544 [00:09<00:00, 10141.67 examples/s]\n"
     ]
    }
   ],
   "source": [
    "processed_bad = processed_dataset['train'].filter(lambda example: example['primary_category'] == 'astro-ph')"
   ]
  },
  {
   "cell_type": "code",
   "execution_count": null,
   "id": "f36cb17c",
   "metadata": {},
   "outputs": [
    {
     "data": {
      "text/plain": [
       "[['Physics Archive->astro-ph'],\n",
       " ['Physics Archive->astro-ph'],\n",
       " ['Physics Archive->astro-ph'],\n",
       " ['Physics Archive->astro-ph'],\n",
       " ['Physics Archive->astro-ph'],\n",
       " ['Physics Archive->astro-ph'],\n",
       " ['Physics Archive->astro-ph'],\n",
       " ['Physics Archive->astro-ph'],\n",
       " ['Physics Archive->astro-ph',\n",
       "  'Physics Archive->gr-qc',\n",
       "  'Physics Archive->hep->hep-ph'],\n",
       " ['Physics Archive->astro-ph'],\n",
       " ['Physics Archive->astro-ph'],\n",
       " ['Physics Archive->astro-ph'],\n",
       " ['Physics Archive->astro-ph'],\n",
       " ['Physics Archive->astro-ph'],\n",
       " ['Physics Archive->astro-ph'],\n",
       " ['Physics Archive->astro-ph', 'Physics Archive->hep->hep-ph'],\n",
       " ['Physics Archive->astro-ph',\n",
       "  'Physics Archive->gr-qc',\n",
       "  'Physics Archive->hep->hep-ph',\n",
       "  'Physics Archive->hep->hep-th'],\n",
       " ['Physics Archive->astro-ph'],\n",
       " ['Physics Archive->astro-ph',\n",
       "  'Physics Archive->gr-qc',\n",
       "  'Physics Archive->hep->hep-ph',\n",
       "  'Physics Archive->hep->hep-th'],\n",
       " ['Physics Archive->astro-ph'],\n",
       " ['Physics Archive->astro-ph'],\n",
       " ['Physics Archive->astro-ph'],\n",
       " ['Physics Archive->astro-ph'],\n",
       " ['Physics Archive->astro-ph'],\n",
       " ['Physics Archive->astro-ph'],\n",
       " ['Physics Archive->astro-ph'],\n",
       " ['Physics Archive->astro-ph',\n",
       "  'Physics Archive->gr-qc',\n",
       "  'Physics Archive->hep->hep-ph',\n",
       "  'Physics Archive->hep->hep-th'],\n",
       " ['Physics Archive->astro-ph'],\n",
       " ['Physics Archive->astro-ph'],\n",
       " ['Physics Archive->astro-ph'],\n",
       " ['Physics Archive->astro-ph'],\n",
       " ['Physics Archive->astro-ph'],\n",
       " ['Physics Archive->astro-ph'],\n",
       " ['Physics Archive->astro-ph'],\n",
       " ['Physics Archive->astro-ph'],\n",
       " ['Physics Archive->astro-ph'],\n",
       " ['Physics Archive->astro-ph'],\n",
       " ['Physics Archive->astro-ph', 'Physics Archive->hep->hep-ph'],\n",
       " ['Physics Archive->astro-ph'],\n",
       " ['Physics Archive->astro-ph'],\n",
       " ['Physics Archive->astro-ph'],\n",
       " ['Physics Archive->astro-ph'],\n",
       " ['Physics Archive->astro-ph'],\n",
       " ['Physics Archive->astro-ph'],\n",
       " ['Physics Archive->astro-ph'],\n",
       " ['Physics Archive->astro-ph'],\n",
       " ['Physics Archive->astro-ph'],\n",
       " ['Physics Archive->astro-ph'],\n",
       " ['Physics Archive->astro-ph'],\n",
       " ['Physics Archive->astro-ph'],\n",
       " ['Physics Archive->astro-ph'],\n",
       " ['Physics Archive->astro-ph'],\n",
       " ['Physics Archive->astro-ph'],\n",
       " ['Physics Archive->astro-ph'],\n",
       " ['Physics Archive->astro-ph'],\n",
       " ['Physics Archive->astro-ph'],\n",
       " ['Physics Archive->astro-ph', 'Physics Archive->hep->hep-ph'],\n",
       " ['Physics Archive->astro-ph'],\n",
       " ['Physics Archive->astro-ph'],\n",
       " ['Physics Archive->astro-ph'],\n",
       " ['Physics Archive->astro-ph'],\n",
       " ['Physics Archive->astro-ph'],\n",
       " ['Physics Archive->astro-ph'],\n",
       " ['Physics Archive->astro-ph'],\n",
       " ['Physics Archive->astro-ph'],\n",
       " ['Physics Archive->astro-ph'],\n",
       " ['Physics Archive->astro-ph'],\n",
       " ['Physics Archive->astro-ph', 'Physics Archive->gr-qc'],\n",
       " ['Physics Archive->astro-ph'],\n",
       " ['Physics Archive->astro-ph'],\n",
       " ['Physics Archive->astro-ph', 'Physics Archive->hep->hep-ph'],\n",
       " ['Physics Archive->astro-ph'],\n",
       " ['Physics Archive->astro-ph'],\n",
       " ['Physics Archive->astro-ph', 'Physics Archive->gr-qc'],\n",
       " ['Physics Archive->astro-ph'],\n",
       " ['Physics Archive->astro-ph'],\n",
       " ['Physics Archive->astro-ph'],\n",
       " ['Physics Archive->astro-ph', 'Physics Archive->hep->hep-ph'],\n",
       " ['Physics Archive->astro-ph'],\n",
       " ['Physics Archive->astro-ph'],\n",
       " ['Physics Archive->astro-ph'],\n",
       " ['Physics Archive->astro-ph'],\n",
       " ['Physics Archive->astro-ph'],\n",
       " ['Physics Archive->astro-ph'],\n",
       " ['Physics Archive->astro-ph'],\n",
       " ['Physics Archive->astro-ph', 'Physics Archive->hep->hep-ph'],\n",
       " ['Physics Archive->astro-ph'],\n",
       " ['Physics Archive->astro-ph'],\n",
       " ['Physics Archive->astro-ph'],\n",
       " ['Physics Archive->astro-ph'],\n",
       " ['Physics Archive->astro-ph'],\n",
       " ['Physics Archive->astro-ph', 'Physics Archive->hep->hep-ph'],\n",
       " ['Physics Archive->astro-ph'],\n",
       " ['Physics Archive->astro-ph'],\n",
       " ['Physics Archive->astro-ph'],\n",
       " ['Physics Archive->astro-ph'],\n",
       " ['Physics Archive->astro-ph'],\n",
       " ['Physics Archive->astro-ph'],\n",
       " ['Physics Archive->astro-ph'],\n",
       " ['Physics Archive->astro-ph']]"
      ]
     },
     "execution_count": 12,
     "metadata": {},
     "output_type": "execute_result"
    }
   ],
   "source": [
    "processed_bad[0:100]['categories']"
   ]
  },
  {
   "cell_type": "code",
   "execution_count": 14,
   "id": "639bd1c7",
   "metadata": {},
   "outputs": [
    {
     "data": {
      "text/plain": [
       "['astro-ph.GA',\n",
       " 'astro-ph.CO',\n",
       " 'astro-ph.CO',\n",
       " 'astro-ph.GA',\n",
       " 'astro-ph.GA',\n",
       " 'astro-ph.GA',\n",
       " 'astro-ph.CO',\n",
       " 'astro-ph.CO',\n",
       " 'astro-ph.GA',\n",
       " 'astro-ph.CO',\n",
       " 'astro-ph.GA',\n",
       " 'astro-ph.CO',\n",
       " 'astro-ph.CO',\n",
       " 'astro-ph.GA',\n",
       " 'astro-ph.GA',\n",
       " 'astro-ph.GA',\n",
       " 'astro-ph.CO',\n",
       " 'astro-ph.CO',\n",
       " 'astro-ph.GA',\n",
       " 'astro-ph.CO',\n",
       " 'astro-ph.GA',\n",
       " 'astro-ph.GA',\n",
       " 'astro-ph.GA',\n",
       " 'astro-ph.GA',\n",
       " 'astro-ph.CO',\n",
       " 'astro-ph.CO',\n",
       " 'astro-ph.GA',\n",
       " 'astro-ph.CO',\n",
       " 'astro-ph.CO',\n",
       " 'astro-ph.GA',\n",
       " 'astro-ph.GA',\n",
       " 'astro-ph.GA',\n",
       " 'astro-ph.CO',\n",
       " 'astro-ph.GA',\n",
       " 'astro-ph.CO',\n",
       " 'astro-ph.CO',\n",
       " 'astro-ph.GA',\n",
       " 'astro-ph.GA',\n",
       " 'astro-ph.CO',\n",
       " 'astro-ph.CO',\n",
       " 'astro-ph.CO',\n",
       " 'astro-ph.GA',\n",
       " 'astro-ph.CO',\n",
       " 'astro-ph.GA',\n",
       " 'astro-ph.CO',\n",
       " 'astro-ph.GA',\n",
       " 'astro-ph.GA',\n",
       " 'astro-ph.GA',\n",
       " 'astro-ph.GA',\n",
       " 'astro-ph.CO',\n",
       " 'astro-ph.CO',\n",
       " 'astro-ph.GA',\n",
       " 'astro-ph.CO',\n",
       " 'astro-ph.CO',\n",
       " 'astro-ph.GA',\n",
       " 'astro-ph.CO',\n",
       " 'astro-ph.GA',\n",
       " 'astro-ph.CO',\n",
       " 'astro-ph.GA',\n",
       " 'astro-ph.CO',\n",
       " 'astro-ph.GA',\n",
       " 'astro-ph.CO',\n",
       " 'astro-ph.GA',\n",
       " 'astro-ph.GA',\n",
       " 'astro-ph.CO',\n",
       " 'astro-ph.CO',\n",
       " 'astro-ph.CO',\n",
       " 'astro-ph.GA',\n",
       " 'astro-ph.CO',\n",
       " 'astro-ph.GA',\n",
       " 'astro-ph.CO',\n",
       " 'astro-ph.GA',\n",
       " 'astro-ph.GA',\n",
       " 'astro-ph.GA',\n",
       " 'astro-ph.CO',\n",
       " 'astro-ph.GA',\n",
       " 'astro-ph.CO',\n",
       " 'astro-ph.CO',\n",
       " 'astro-ph.CO',\n",
       " 'astro-ph.CO',\n",
       " 'astro-ph.GA',\n",
       " 'astro-ph.CO',\n",
       " 'astro-ph.CO',\n",
       " 'astro-ph.GA',\n",
       " 'astro-ph.GA',\n",
       " 'astro-ph.GA',\n",
       " 'astro-ph.CO',\n",
       " 'astro-ph.CO',\n",
       " 'astro-ph.CO',\n",
       " 'astro-ph.CO',\n",
       " 'astro-ph.CO',\n",
       " 'astro-ph.CO',\n",
       " 'astro-ph.GA',\n",
       " 'astro-ph.GA',\n",
       " 'astro-ph.CO',\n",
       " 'astro-ph.CO',\n",
       " 'astro-ph.CO',\n",
       " 'astro-ph.CO',\n",
       " 'astro-ph.CO',\n",
       " 'astro-ph.GA']"
      ]
     },
     "execution_count": 14,
     "metadata": {},
     "output_type": "execute_result"
    }
   ],
   "source": [
    "processed_bad[0:100]['category']"
   ]
  },
  {
   "cell_type": "code",
   "execution_count": null,
   "id": "893c172a",
   "metadata": {},
   "outputs": [],
   "source": []
  }
 ],
 "metadata": {
  "kernelspec": {
   "display_name": "fast-torch",
   "language": "python",
   "name": "python3"
  },
  "language_info": {
   "codemirror_mode": {
    "name": "ipython",
    "version": 3
   },
   "file_extension": ".py",
   "mimetype": "text/x-python",
   "name": "python",
   "nbconvert_exporter": "python",
   "pygments_lexer": "ipython3",
   "version": "3.11.13"
  }
 },
 "nbformat": 4,
 "nbformat_minor": 5
}
